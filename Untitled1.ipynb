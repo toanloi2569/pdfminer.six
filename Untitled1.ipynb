{
 "cells": [
  {
   "cell_type": "code",
   "execution_count": 11,
   "metadata": {},
   "outputs": [],
   "source": [
    "import sys\n",
    "import os\n",
    "from os.path import join\n",
    "from flask import Flask, jsonify, request, render_template\n",
    "import wget\n",
    "\n",
    "app = Flask(__name__)"
   ]
  },
  {
   "cell_type": "code",
   "execution_count": 18,
   "metadata": {},
   "outputs": [],
   "source": [
    "PDF_FOLDER = 'pdf-file'\n",
    "url = 'https://pybossapdf.000webhostapp.com/1.pdf'\n",
    "\n",
    "filename = wget.download(url, PDF_FOLDER)"
   ]
  },
  {
   "cell_type": "code",
   "execution_count": 19,
   "metadata": {},
   "outputs": [],
   "source": [
    "class Anno:\n",
    "    def __init__(self, x1, y1, x2, y2, page, label):\n",
    "        self.x1 = x1\n",
    "        self.y1 = y1\n",
    "        self.x2 = x2\n",
    "        self.y2 = y2\n",
    "        self.page = page\n",
    "        self.label = label\n",
    "        \n",
    "    # Kiểm tra xem đối tượng Anno đang xét có bao hoàn toàn tag không\n",
    "    def is_covered(self, tag):\n",
    "        if \"bbox\" not in tag.attrib:\n",
    "            return False\n",
    "        tagx1, tagy1, tagx2, tagy2 = [float(x) for x in tag.attrib['bbox'].split(',')]\n",
    "        if self.x1 < tagx1 and \\\n",
    "            self.y1 < tagy1 and \\\n",
    "            self.x2 > tagx2 and \\\n",
    "            self.y2 > tagy2:\n",
    "            return True\n",
    "        else: \n",
    "            return False\n",
    "        \n",
    "    # Kiểm tra xem đối tượng có gần được bao phủ hết hay không\n",
    "    def is_nearly_covered (self, tag):\n",
    "        if \"bbox\" not in tag.attrib:\n",
    "            return False\n",
    "        tagx1, tagy1, tagx2, tagy2 = [float(x) for x in tag.attrib['bbox'].split(',')]\n",
    "        if self.x1 < tagx1 + 10 or \\\n",
    "            self.y1 < tagy1 + 10 or \\\n",
    "            self.x2 > tagx2 - 10 or \\\n",
    "            self.y2 > tagy2 - 10:\n",
    "            return True\n",
    "        else:\n",
    "            return False \n",
    "        \n",
    "        \n",
    "    # Kiểm tra xem đối tượng Anno đang xét có hoàn toàn không chồng lên tag không\n",
    "    def is_completely_not_covered(self, tag):\n",
    "        if \"bbox\" not in tag.attrib:\n",
    "            return True\n",
    "        tagx1, tagy1, tagx2, tagy2 = [float(x) for x in tag.attrib['bbox'].split(',')]\n",
    "        if self.x1 > float(tagx2) or \\\n",
    "            self.x2 < float(tagx1) or \\\n",
    "            self.y1 > float(tagy2) or \\\n",
    "            self.y2 < float(tagy1):\n",
    "            return True\n",
    "        else :\n",
    "            return False\n",
    "   \n",
    "        \n",
    "    # Lấy danh sách tất cả những tag con của biến tag nằm trong hoặc gần trong đối tượng Anno\n",
    "    def get_list_cover(self, tag):\n",
    "        list_covered = []\n",
    "        list_nearly_covered = []\n",
    "        for inner_tag in tag:\n",
    "            if inner_tag.tag == \"page\" and int(inner_tag.attrib[\"id\"]) != self.page:\n",
    "                continue\n",
    "            if self.is_covered (inner_tag):\n",
    "                list_covered.append(inner_tag)\n",
    "            elif self.is_nearly_covered(inner_tag):\n",
    "                list_nearly_covered.append(inner_tag)\n",
    "            elif not self.is_completely_not_covered(inner_tag):\n",
    "                lt, lnt = self.get_list_cover(inner_tag)\n",
    "                if len(lt) > 0: list_covered += lt\n",
    "                if len(lnt) > 0: list_nearly_covered += lnt\n",
    "            \n",
    "        return list_covered, list_nearly_covered"
   ]
  },
  {
   "cell_type": "code",
   "execution_count": null,
   "metadata": {},
   "outputs": [],
   "source": []
  }
 ],
 "metadata": {
  "kernelspec": {
   "display_name": "flask",
   "language": "python",
   "name": "flask"
  },
  "language_info": {
   "codemirror_mode": {
    "name": "ipython",
    "version": 3
   },
   "file_extension": ".py",
   "mimetype": "text/x-python",
   "name": "python",
   "nbconvert_exporter": "python",
   "pygments_lexer": "ipython3",
   "version": "3.7.1"
  }
 },
 "nbformat": 4,
 "nbformat_minor": 2
}
