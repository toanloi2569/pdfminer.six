{
 "cells": [
  {
   "cell_type": "code",
   "execution_count": 1,
   "metadata": {},
   "outputs": [],
   "source": [
    "from pdfminers import utils\n",
    "from pdfminers.pdfparser import PDFParser\n",
    "from pdfminers.pdfdocument import PDFDocument\n",
    "from pdfminers.pdfpage import PDFPage,PDFTextExtractionNotAllowed\n",
    "from pdfminers.pdfdevice import PDFDevice, TagExtractor\n",
    "from pdfminers.pdfinterp import PDFResourceManager, PDFPageInterpreter\n",
    "from pdfminers.converter import PDFLayoutAnalyzer,PDFConverter, XMLConverter, PDFPageAggregator\n",
    "import os\n",
    "import io\n",
    "import re\n",
    "from pdfminers.image import ImageWriter\n",
    "from pdfminers.cmapdb import CMapDB\n",
    "from pdfminers.pdfdevice import PDFTextDevice\n",
    "from pdfminers.pdffont import PDFUnicodeNotDefined\n",
    "from pdfminers.layout import LAParams, LTContainer, LTPage,LTText, LTLine, LTRect, LTCurve, LTFigure, LTImage, LTChar , LTTextLine,LTTextBox,LTTextBoxVertical, LTTextGroup\n",
    "from pdfminers.utils import apply_matrix_pt,mult_matrix,enc,bbox2str"
   ]
  },
  {
   "cell_type": "code",
   "execution_count": 2,
   "metadata": {},
   "outputs": [],
   "source": [
    "class tranform_position():\n",
    "    def __init__(self, inf, outfp, list_anno, page_numbers):\n",
    "        self.inf = open(inf, 'rb')\n",
    "        self.outfp = open(outfp, 'wb')\n",
    "        self.list_anno = list_anno\n",
    "        self.page_numbers = page_numbers\n",
    "    def convert_xml(self,output_type='xml', codec='utf-8', laparams = None,\n",
    "                        maxpages=0, scale=1.0, rotation=0, output_dir=None, strip_control=False,\n",
    "                        debug=False, disable_caching=False):\n",
    "        laparams = LAParams()\n",
    "        imagewriter = None\n",
    "        if output_dir:\n",
    "            imagewriter = ImageWriter(output_dir)\n",
    "    \n",
    "        rsrcmgr = PDFResourceManager(caching=not disable_caching)\n",
    "\n",
    "        device = XMLConverter(rsrcmgr,self.outfp, codec='utf-8', laparams=laparams,\n",
    "                                  imagewriter=imagewriter,\n",
    "                                  stripcontrol=strip_control)\n",
    "\n",
    "        interpreter = PDFPageInterpreter(rsrcmgr, device)\n",
    "        for page in PDFPage.get_pages(self.inf,\n",
    "                                  self.page_numbers,\n",
    "                                  maxpages=maxpages,\n",
    "                                  caching=not disable_caching,\n",
    "                                  check_extractable=True):\n",
    "            print(page.mediabox)\n",
    "            page.rotate = (page.rotate + rotation) % 360\n",
    "            interpreter.process_page(page)    \n",
    "        device.close()\n",
    "        return page.mediabox\n",
    "    def tranform (self):\n",
    "        mediabox = self.convert_xml()\n",
    "        for i in range(len(self.list_anno)):\n",
    "            list_anno[i][0] = list_anno[i][0]  # x0\n",
    "            list_anno[i][1] = mediabox[3] - list_anno[i][1] - list_anno[i][3] # y0\n",
    "            list_anno[i][2] = list_anno[i][0] + list_anno[i][2] # x1\n",
    "            list_anno[i][3] = list_anno[i][1] + list_anno[i][3] # y1\n",
    "        self.outfp.close() # đóng file\n",
    "        self.inf.close() # đóng file\n",
    "        return self.list_anno"
   ]
  },
  {
   "cell_type": "code",
   "execution_count": 3,
   "metadata": {
    "scrolled": true
   },
   "outputs": [
    {
     "name": "stdout",
     "output_type": "stream",
     "text": [
      "[0, 0, 612.0, 792.0]\n",
      "[[245, 672.8, 410, 689.8]]\n"
     ]
    }
   ],
   "source": [
    "list_anno = [[245, 102.2, 165, 17]]\n",
    "Tran = tranform_position('Template-10.pdf', 'st.xml', list_anno, page_numbers=None)\n",
    "print(Tran.tranform())"
   ]
  },
  {
   "cell_type": "code",
   "execution_count": null,
   "metadata": {},
   "outputs": [],
   "source": []
  }
 ],
 "metadata": {
  "kernelspec": {
   "display_name": "Python 3",
   "language": "python",
   "name": "python3"
  },
  "language_info": {
   "codemirror_mode": {
    "name": "ipython",
    "version": 3
   },
   "file_extension": ".py",
   "mimetype": "text/x-python",
   "name": "python",
   "nbconvert_exporter": "python",
   "pygments_lexer": "ipython3",
   "version": "3.7.1"
  }
 },
 "nbformat": 4,
 "nbformat_minor": 2
}
